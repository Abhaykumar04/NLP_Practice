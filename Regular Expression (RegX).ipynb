{
 "cells": [
  {
   "cell_type": "markdown",
   "id": "42a0016c",
   "metadata": {},
   "source": [
    "# Regular Expression (RegX):"
   ]
  },
  {
   "cell_type": "markdown",
   "id": "6dfca48d",
   "metadata": {},
   "source": [
    "## Example: 1"
   ]
  },
  {
   "cell_type": "code",
   "execution_count": 1,
   "id": "9a5138e4",
   "metadata": {},
   "outputs": [
    {
     "name": "stdout",
     "output_type": "stream",
     "text": [
      "Words starting with 'p': ['powerful', 'pattern']\n"
     ]
    }
   ],
   "source": [
    "import re\n",
    "\n",
    "text = \"Regular expressions are powerful tools for pattern matching.\"\n",
    "\n",
    "# Find all words starting with 'p'\n",
    "pattern = r'\\bp\\w+'\n",
    "matches = re.findall(pattern, text, re.IGNORECASE)\n",
    "print(\"Words starting with 'p':\", matches)"
   ]
  },
  {
   "cell_type": "markdown",
   "id": "94b082ae",
   "metadata": {},
   "source": [
    "## Example: 2"
   ]
  },
  {
   "cell_type": "code",
   "execution_count": 2,
   "id": "4a7eec6c",
   "metadata": {},
   "outputs": [
    {
     "name": "stdout",
     "output_type": "stream",
     "text": [
      "Email Addresses: []\n"
     ]
    }
   ],
   "source": [
    "import re\n",
    "\n",
    "text = \"Regular expressions support complex patterns, such as matching email addresses.\"\n",
    "\n",
    "# Find all email addresses\n",
    "pattern = r'\\b[A-Za-z0-9._%+-]+@[A-Za-z0-9.-]+\\.[A-Z|a-z]{2,}\\b'\n",
    "matches = re.findall(pattern, text)\n",
    "print(\"Email Addresses:\", matches)"
   ]
  },
  {
   "cell_type": "markdown",
   "id": "d2993d5f",
   "metadata": {},
   "source": [
    "## Example: 3"
   ]
  },
  {
   "cell_type": "code",
   "execution_count": 3,
   "id": "cb955cd1",
   "metadata": {},
   "outputs": [
    {
     "name": "stdout",
     "output_type": "stream",
     "text": [
      "Phone Numbers: []\n"
     ]
    }
   ],
   "source": [
    "import re\n",
    "\n",
    "text = \"Regular expressions can be used to extract specific information, like phone numbers.\"\n",
    "\n",
    "# Find all phone numbers\n",
    "pattern = r'\\b\\d{3}[-.\\s]?\\d{3}[-.\\s]?\\d{4}\\b'\n",
    "matches = re.findall(pattern, text)\n",
    "print(\"Phone Numbers:\", matches)"
   ]
  },
  {
   "cell_type": "markdown",
   "id": "77be781f",
   "metadata": {},
   "source": [
    "## Example: 4"
   ]
  },
  {
   "cell_type": "code",
   "execution_count": 4,
   "id": "36d23058",
   "metadata": {},
   "outputs": [
    {
     "name": "stdout",
     "output_type": "stream",
     "text": [
      "Words with 'ex': ['expressions', 'flexibility', 'text']\n"
     ]
    }
   ],
   "source": [
    "import re\n",
    "\n",
    "text = \"Regular expressions provide flexibility in text pattern matching.\"\n",
    "\n",
    "# Find all words with 'ex'\n",
    "pattern = r'\\b\\w*ex\\w*\\b'\n",
    "matches = re.findall(pattern, text, re.IGNORECASE)\n",
    "print(\"Words with 'ex':\", matches)"
   ]
  },
  {
   "cell_type": "markdown",
   "id": "294b5980",
   "metadata": {},
   "source": [
    "## Example: 5"
   ]
  },
  {
   "cell_type": "code",
   "execution_count": 5,
   "id": "ef51dfea",
   "metadata": {},
   "outputs": [
    {
     "name": "stdout",
     "output_type": "stream",
     "text": [
      "Words with more than 5 characters: ['Regular', 'expressions', 'programming', 'languages', 'processing']\n"
     ]
    }
   ],
   "source": [
    "import re\n",
    "\n",
    "text = \"Regular expressions are used in many programming languages for text processing.\"\n",
    "\n",
    "# Find all words with more than 5 characters\n",
    "pattern = r'\\b\\w{6,}\\b'\n",
    "matches = re.findall(pattern, text)\n",
    "print(\"Words with more than 5 characters:\", matches)"
   ]
  },
  {
   "cell_type": "code",
   "execution_count": null,
   "id": "3af88e81",
   "metadata": {},
   "outputs": [],
   "source": []
  }
 ],
 "metadata": {
  "kernelspec": {
   "display_name": "Python 3 (ipykernel)",
   "language": "python",
   "name": "python3"
  },
  "language_info": {
   "codemirror_mode": {
    "name": "ipython",
    "version": 3
   },
   "file_extension": ".py",
   "mimetype": "text/x-python",
   "name": "python",
   "nbconvert_exporter": "python",
   "pygments_lexer": "ipython3",
   "version": "3.11.5"
  }
 },
 "nbformat": 4,
 "nbformat_minor": 5
}
