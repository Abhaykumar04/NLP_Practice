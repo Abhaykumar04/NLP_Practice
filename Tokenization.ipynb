{
 "cells": [
  {
   "cell_type": "markdown",
   "id": "84f35c4d",
   "metadata": {},
   "source": [
    "## Example: 1"
   ]
  },
  {
   "cell_type": "code",
   "execution_count": 8,
   "id": "7995ef25",
   "metadata": {},
   "outputs": [
    {
     "name": "stdout",
     "output_type": "stream",
     "text": [
      "Words: ['Tokenization', 'is', 'the', 'process', 'of', 'breaking', 'down', 'text', 'into', 'words', 'and', 'sentences', '.']\n",
      "Sentences: ['Tokenization is the process of breaking down text into words and sentences.']\n"
     ]
    }
   ],
   "source": [
    "from nltk.tokenize import word_tokenize, sent_tokenize\n",
    "\n",
    "text = \"Tokenization is the process of breaking down text into words and sentences.\"\n",
    "\n",
    "# Tokenize into words\n",
    "words = word_tokenize(text)\n",
    "print(\"Words:\", words)\n",
    "\n",
    "# Tokenize into sentences\n",
    "sentences = sent_tokenize(text)\n",
    "print(\"Sentences:\", sentences)"
   ]
  },
  {
   "cell_type": "markdown",
   "id": "c172dc22",
   "metadata": {},
   "source": [
    "## Example: 2"
   ]
  },
  {
   "cell_type": "code",
   "execution_count": 9,
   "id": "c3db663f",
   "metadata": {},
   "outputs": [
    {
     "name": "stdout",
     "output_type": "stream",
     "text": [
      "Words: ['Tokenization', 'helps', 'in', 'analyzing', 'text', 'effectively', '.', '#NLP']\n"
     ]
    }
   ],
   "source": [
    "from nltk.tokenize import word_tokenize, TweetTokenizer\n",
    "\n",
    "text = \"Tokenization helps in analyzing text effectively. #NLP\"\n",
    "\n",
    "# Tokenize into words using TweetTokenizer\n",
    "tokenizer = TweetTokenizer()\n",
    "words = tokenizer.tokenize(text)\n",
    "print(\"Words:\", words)"
   ]
  },
  {
   "cell_type": "markdown",
   "id": "cc2e38c3",
   "metadata": {},
   "source": [
    "## Example: 3"
   ]
  },
  {
   "cell_type": "code",
   "execution_count": 10,
   "id": "fa43acb1",
   "metadata": {},
   "outputs": [
    {
     "name": "stdout",
     "output_type": "stream",
     "text": [
      "Words: ['Tokenization', 'can', 'use', 'regular', 'expressions', 'for', 'advanced', 'patterns']\n"
     ]
    }
   ],
   "source": [
    "from nltk.tokenize import word_tokenize, regexp_tokenize\n",
    "\n",
    "text = \"Tokenization can use regular expressions for advanced patterns.\"\n",
    "\n",
    "# Tokenize using regular expression\n",
    "pattern = r'\\w+'\n",
    "words = regexp_tokenize(text, pattern)\n",
    "print(\"Words:\", words)"
   ]
  },
  {
   "cell_type": "markdown",
   "id": "8b48f65a",
   "metadata": {},
   "source": [
    "## Example: 4"
   ]
  },
  {
   "cell_type": "code",
   "execution_count": 11,
   "id": "18b2b4f4",
   "metadata": {},
   "outputs": [
    {
     "name": "stdout",
     "output_type": "stream",
     "text": [
      "Words: ['WordPunctTokenizer', 'is', 'another', 'option', 'for', 'word', 'tokenization', '.']\n"
     ]
    }
   ],
   "source": [
    "from nltk.tokenize import word_tokenize, WordPunctTokenizer\n",
    "\n",
    "text = \"WordPunctTokenizer is another option for word tokenization.\"\n",
    "\n",
    "# Tokenize into words using WordPunctTokenizer\n",
    "tokenizer = WordPunctTokenizer()\n",
    "words = tokenizer.tokenize(text)\n",
    "print(\"Words:\", words)"
   ]
  },
  {
   "cell_type": "markdown",
   "id": "62d32bc3",
   "metadata": {},
   "source": [
    "## Example: 5"
   ]
  },
  {
   "cell_type": "code",
   "execution_count": 12,
   "id": "3ff30dff",
   "metadata": {},
   "outputs": [
    {
     "name": "stdout",
     "output_type": "stream",
     "text": [
      "Words: ['Multi-Word_Expressions', '(', 'MWEs', ')', 'may', 'require', 'specialized', 'tokenization', '.']\n"
     ]
    }
   ],
   "source": [
    "from nltk.tokenize import word_tokenize, MWETokenizer\n",
    "\n",
    "text = \"Multi-Word Expressions (MWEs) may require specialized tokenization.\"\n",
    "\n",
    "# Tokenize into words using MWETokenizer\n",
    "tokenizer = MWETokenizer([('Multi-Word', 'Expressions')])\n",
    "words = tokenizer.tokenize(word_tokenize(text))\n",
    "print(\"Words:\", words)"
   ]
  },
  {
   "cell_type": "code",
   "execution_count": null,
   "id": "0d9596ab",
   "metadata": {},
   "outputs": [],
   "source": []
  }
 ],
 "metadata": {
  "kernelspec": {
   "display_name": "Python 3 (ipykernel)",
   "language": "python",
   "name": "python3"
  },
  "language_info": {
   "codemirror_mode": {
    "name": "ipython",
    "version": 3
   },
   "file_extension": ".py",
   "mimetype": "text/x-python",
   "name": "python",
   "nbconvert_exporter": "python",
   "pygments_lexer": "ipython3",
   "version": "3.11.5"
  }
 },
 "nbformat": 4,
 "nbformat_minor": 5
}
